{
 "cells": [
  {
   "cell_type": "code",
   "execution_count": 2,
   "metadata": {},
   "outputs": [],
   "source": [
    "#Solution: The objective is to determine whether CO2 emission from cars depends on fuel type \n",
    "# or manufacturer or both. \n",
    "# Descriptive Analysis (EDA) on Car Dat"
   ]
  },
  {
   "cell_type": "code",
   "execution_count": 4,
   "metadata": {},
   "outputs": [],
   "source": [
    "#Step 1: Import important packages into Jupyter Notebook\n",
    "import pandas as pd\n",
    "import numpy as np\n",
    "import seaborn as sns\n",
    "import matplotlib.pyplot as plt"
   ]
  },
  {
   "cell_type": "code",
   "execution_count": 5,
   "metadata": {},
   "outputs": [],
   "source": [
    "#Step 2: Read the dataset into Jupyter Notebook using read_csv\n",
    "aovData = pd.read_csv('AOVData.csv')"
   ]
  },
  {
   "cell_type": "code",
   "execution_count": 7,
   "metadata": {},
   "outputs": [
    {
     "data": {
      "text/plain": [
       "(510, 4)"
      ]
     },
     "execution_count": 7,
     "metadata": {},
     "output_type": "execute_result"
    }
   ],
   "source": [
    "aovData.shape"
   ]
  },
  {
   "cell_type": "code",
   "execution_count": 9,
   "metadata": {},
   "outputs": [
    {
     "data": {
      "text/html": [
       "<div>\n",
       "<style scoped>\n",
       "    .dataframe tbody tr th:only-of-type {\n",
       "        vertical-align: middle;\n",
       "    }\n",
       "\n",
       "    .dataframe tbody tr th {\n",
       "        vertical-align: top;\n",
       "    }\n",
       "\n",
       "    .dataframe thead th {\n",
       "        text-align: right;\n",
       "    }\n",
       "</style>\n",
       "<table border=\"1\" class=\"dataframe\">\n",
       "  <thead>\n",
       "    <tr style=\"text-align: right;\">\n",
       "      <th></th>\n",
       "      <th>Car_ID</th>\n",
       "      <th>manufacturer</th>\n",
       "      <th>fuel_type</th>\n",
       "      <th>co_emissions</th>\n",
       "    </tr>\n",
       "  </thead>\n",
       "  <tbody>\n",
       "    <tr>\n",
       "      <th>0</th>\n",
       "      <td>1</td>\n",
       "      <td>Audi</td>\n",
       "      <td>Petrol</td>\n",
       "      <td>441.55</td>\n",
       "    </tr>\n",
       "    <tr>\n",
       "      <th>1</th>\n",
       "      <td>2</td>\n",
       "      <td>BMW</td>\n",
       "      <td>E85</td>\n",
       "      <td>376.47</td>\n",
       "    </tr>\n",
       "    <tr>\n",
       "      <th>2</th>\n",
       "      <td>3</td>\n",
       "      <td>BMW</td>\n",
       "      <td>E85</td>\n",
       "      <td>414.12</td>\n",
       "    </tr>\n",
       "    <tr>\n",
       "      <th>3</th>\n",
       "      <td>4</td>\n",
       "      <td>BMW</td>\n",
       "      <td>E85</td>\n",
       "      <td>351.41</td>\n",
       "    </tr>\n",
       "    <tr>\n",
       "      <th>4</th>\n",
       "      <td>5</td>\n",
       "      <td>Volvo</td>\n",
       "      <td>E85</td>\n",
       "      <td>284.59</td>\n",
       "    </tr>\n",
       "  </tbody>\n",
       "</table>\n",
       "</div>"
      ],
      "text/plain": [
       "   Car_ID manufacturer fuel_type  co_emissions\n",
       "0       1         Audi    Petrol        441.55\n",
       "1       2          BMW       E85        376.47\n",
       "2       3          BMW       E85        414.12\n",
       "3       4          BMW       E85        351.41\n",
       "4       5        Volvo       E85        284.59"
      ]
     },
     "execution_count": 9,
     "metadata": {},
     "output_type": "execute_result"
    }
   ],
   "source": [
    "aovData.head()"
   ]
  },
  {
   "cell_type": "code",
   "execution_count": 10,
   "metadata": {},
   "outputs": [],
   "source": [
    "# Note that “co_emissions” is the response 𝑌 and “fuel_type” and “manufacturer” are two factors at multiple levels"
   ]
  },
  {
   "cell_type": "code",
   "execution_count": 12,
   "metadata": {},
   "outputs": [
    {
     "data": {
      "text/plain": [
       "count    510.000000\n",
       "mean     358.456882\n",
       "std       66.912999\n",
       "min      162.070000\n",
       "25%      312.630000\n",
       "50%      356.190000\n",
       "75%      410.645000\n",
       "max      544.560000\n",
       "Name: co_emissions, dtype: float64"
      ]
     },
     "execution_count": 12,
     "metadata": {},
     "output_type": "execute_result"
    }
   ],
   "source": [
    "#Step 3: Summary of response: Carbon emission\n",
    "aovData['co_emissions'].describe().transpose()"
   ]
  },
  {
   "cell_type": "code",
   "execution_count": 13,
   "metadata": {},
   "outputs": [
    {
     "data": {
      "image/png": "[encoded data removed]",
      "text/plain": [
       "<Figure size 432x288 with 1 Axes>"
      ]
     },
     "metadata": {
      "needs_background": "light"
     },
     "output_type": "display_data"
    }
   ],
   "source": [
    "bin_edges = np.arange(160, 560, 20)\n",
    "plt.hist(aovData.co_emissions,\n",
    " bins=bin_edges,\n",
    " density=False,\n",
    " histtype='bar',\n",
    " color='b',\n",
    " edgecolor='k',\n",
    " alpha=0.5);"
   ]
  },
  {
   "cell_type": "code",
   "execution_count": 14,
   "metadata": {},
   "outputs": [],
   "source": [
    "# The minimum value of carbon emission is 162.1 and maximum is 544.6 and the mean value is \n",
    "# 358.5. Using figure (7) and figure (8), the pattern of carbon emission can be visualized."
   ]
  },
  {
   "cell_type": "code",
   "execution_count": 15,
   "metadata": {},
   "outputs": [
    {
     "data": {
      "image/png": "[encoded data removed]",
      "text/plain": [
       "<Figure size 432x288 with 1 Axes>"
      ]
     },
     "metadata": {
      "needs_background": "light"
     },
     "output_type": "display_data"
    }
   ],
   "source": [
    "sns.boxplot(aovData['co_emissions'] , orient = 'v')\n",
    "plt.show()"
   ]
  },
  {
   "cell_type": "code",
   "execution_count": 16,
   "metadata": {},
   "outputs": [],
   "source": [
    "# Frequency counts and mean of carbon emission at different levels of the factors are shown below. "
   ]
  },
  {
   "cell_type": "code",
   "execution_count": 18,
   "metadata": {},
   "outputs": [
    {
     "data": {
      "text/plain": [
       "Petrol    179\n",
       "LPG       170\n",
       "E85       161\n",
       "Name: fuel_type, dtype: int64"
      ]
     },
     "execution_count": 18,
     "metadata": {},
     "output_type": "execute_result"
    }
   ],
   "source": [
    "# #Factor 1: fuel_type\n",
    "aovData['fuel_type'].value_counts()"
   ]
  },
  {
   "cell_type": "code",
   "execution_count": 19,
   "metadata": {},
   "outputs": [
    {
     "data": {
      "text/plain": [
       "fuel_type\n",
       "E85       338.124534\n",
       "LPG       363.744412\n",
       "Petrol    371.722961\n",
       "Name: co_emissions, dtype: float64"
      ]
     },
     "execution_count": 19,
     "metadata": {},
     "output_type": "execute_result"
    }
   ],
   "source": [
    "aovData.groupby(\"fuel_type\")[\"co_emissions\"].mean()"
   ]
  },
  {
   "cell_type": "code",
   "execution_count": 20,
   "metadata": {},
   "outputs": [
    {
     "data": {
      "text/plain": [
       "Audi     142\n",
       "Ford     132\n",
       "Volvo    123\n",
       "BMW      113\n",
       "Name: manufacturer, dtype: int64"
      ]
     },
     "execution_count": 20,
     "metadata": {},
     "output_type": "execute_result"
    }
   ],
   "source": [
    "#Factor 2: manufacturer\n",
    "aovData['manufacturer'].value_counts()"
   ]
  },
  {
   "cell_type": "code",
   "execution_count": 21,
   "metadata": {},
   "outputs": [
    {
     "data": {
      "text/plain": [
       "manufacturer\n",
       "Audi     349.727254\n",
       "BMW      377.538761\n",
       "Ford     365.078561\n",
       "Volvo    343.898293\n",
       "Name: co_emissions, dtype: float64"
      ]
     },
     "execution_count": 21,
     "metadata": {},
     "output_type": "execute_result"
    }
   ],
   "source": [
    "aovData.groupby(\"manufacturer\")[\"co_emissions\"].mean()"
   ]
  },
  {
   "cell_type": "code",
   "execution_count": 22,
   "metadata": {},
   "outputs": [],
   "source": [
    "# Problem 1: Whether there is any dependency on 𝑌 of 𝑋1: Fuel Type\n",
    "# We need to test the hypothesis that the use of three different fuel types does not impact carbon emission.\n",
    "# Formally 𝐻0: 𝜇1 = 𝜇2 = 𝜇3 against 𝐻𝑎: At least one carbon emission level is different from the rest.\n",
    "# Before one-way ANOVA procedure is applied to the data, visual comparison is recommended. \n",
    "# Moreover, the normality and equality of variance assumptions need to be checked."
   ]
  },
  {
   "cell_type": "code",
   "execution_count": 24,
   "metadata": {},
   "outputs": [
    {
     "data": {
      "image/png": "[encoded data removed]",
      "text/plain": [
       "<Figure size 504x504 with 1 Axes>"
      ]
     },
     "metadata": {
      "needs_background": "light"
     },
     "output_type": "display_data"
    }
   ],
   "source": [
    "a4_dims = (7,7)\n",
    "fig, ax = plt.subplots(figsize=a4_dims)\n",
    "a = sns.boxplot(x= \"fuel_type\", y = 'co_emissions' , data = aovData, hue \n",
    "= 'fuel_type')\n",
    "a.set_title(\"Carbon Emission w.r.t. Fuel type (3 levels)\",fontsize=15)\n",
    "plt.show()"
   ]
  },
  {
   "cell_type": "code",
   "execution_count": 25,
   "metadata": {},
   "outputs": [],
   "source": [
    "# For testing of normality, Shapiro-Wilk’s test is applied to the response. \n",
    "# 𝐻0: Carbon emission follows a normal distribution against 𝐻𝑎: Carbon emission does not follow a normal distribution"
   ]
  },
  {
   "cell_type": "code",
   "execution_count": 26,
   "metadata": {},
   "outputs": [
    {
     "name": "stdout",
     "output_type": "stream",
     "text": [
      "W = 0.9970714449882507 p_value = 0.49723097681999207\n"
     ]
    }
   ],
   "source": [
    "#Aussmption 1: Normality\n",
    "from scipy import stats\n",
    "w, p_value = stats.shapiro(aovData['co_emissions'])\n",
    "print(\"W = {}\".format(w), \"p_value = {}\".format(p_value))"
   ]
  },
  {
   "cell_type": "code",
   "execution_count": 28,
   "metadata": {},
   "outputs": [],
   "source": [
    "# Since p-value of the test is very large, we fail to reject the null hypothesis that the response\n",
    "# follows the normal distribution."
   ]
  },
  {
   "cell_type": "code",
   "execution_count": 29,
   "metadata": {},
   "outputs": [],
   "source": [
    "# Next, we need to test the assumption that at all three levels of the factor fuel_type, population \n",
    "# variance is equal. In other words, the homogeneity of variance assumption is satisfied. We may \n",
    "# formulate the problem as:\n",
    "# 𝐻0: 𝜎1 = 𝜎2 = 𝜎3 against 𝐻𝑎: At least one variance is different from the rest."
   ]
  },
  {
   "cell_type": "code",
   "execution_count": 30,
   "metadata": {},
   "outputs": [
    {
     "name": "stdout",
     "output_type": "stream",
     "text": [
      "statistic = 1.6432552897712633 p_value = 0.19437768490117\n"
     ]
    }
   ],
   "source": [
    "#Aussmption 2: Homogeneity of Variance\n",
    "statistic, p_value = stats.levene(\n",
    " aovData['co_emissions'][aovData['fuel_type']==\"Petrol\"],\n",
    " aovData['co_emissions'][aovData['fuel_type']==\"E85\"],\n",
    " aovData['co_emissions'][aovData['fuel_type']==\"LPG\"])\n",
    "print(\"statistic = {}\".format(statistic), \"p_value = {}\".format(p_value))"
   ]
  },
  {
   "cell_type": "code",
   "execution_count": 31,
   "metadata": {},
   "outputs": [],
   "source": [
    "# Since the p-value is large, we fail to reject the null hypothesis of homogeneity of variances.\n",
    "# Once the two assumptions of one-way ANOVA are satisfied, we can now compare the population means. "
   ]
  },
  {
   "cell_type": "code",
   "execution_count": 40,
   "metadata": {},
   "outputs": [
    {
     "name": "stdout",
     "output_type": "stream",
     "text": [
      "              df        sum_sq       mean_sq          F    PR(>F)\n",
      "fuel_type    2.0  1.028130e+05  51406.481215  11.976652  0.000008\n",
      "Residual   507.0  2.176158e+06   4292.224647        NaN       NaN\n"
     ]
    }
   ],
   "source": [
    "#Apply one-way ANOVA\n",
    "import statsmodels.api as sm\n",
    "from statsmodels.formula.api import ols # For n-way ANOVA\n",
    "from statsmodels.graphics.gofplots import ProbPlot\n",
    "from statsmodels.graphics.factorplots import interaction_plot\n",
    "from statsmodels.stats.multicomp import (pairwise_tukeyhsd,MultiComparison)\n",
    "from statsmodels.stats.anova import _get_covariance,anova_lm # For n-way ANOVA\n",
    "mod = ols('co_emissions ~ fuel_type', data = aovData).fit()\n",
    "aov_tbl = sm.stats.anova_lm(mod, type = 1)\n",
    "print(aov_tbl)"
   ]
  },
  {
   "cell_type": "code",
   "execution_count": 42,
   "metadata": {},
   "outputs": [],
   "source": [
    "### Let us consider the summary output known as ANOVA Table.\n",
    "### For the given problem sum of squares due to the factor fuel_type (SSB) is 102813 and the sum \n",
    "### of squares due to error (SSW) is 2176158. The total sum of squares (SST) for the data is \n",
    "### (102813+2176158=2278971). Since the factor has 3 levels, DF corresponding to fuel_type is \n",
    "### 3 – 1 = 2. Total DF is 510 – 1 = 509. Hence DF due to error is 509 – 2 = 507. Mean sum of \n",
    "### squares is obtained by dividing the sums of squares by corresponding DF. The value of the F\u0002statistic is approximately 12 and the p-value is highly significant.\n",
    "### Based on the ANOVA test we, therefore, reject the null hypothesis that the three population \n",
    "### means are identical. At least for one fuel-type mean carbon emission is different from the rest. \n",
    "### Residuals are defined as the difference between the observed values and the expected values. \n",
    "### Detail discussion on residuals will be taken up along with Simple Linear Regression. The \n",
    "### following two graphs are introduced to check the distribution of the residuals. Fig 10 indicates 16\n",
    "### Proprietary content. ©Great Learning. All Rights Reserved. Unauthorized use or distribution prohibited.\n",
    "### that the mean carbon emission of two groups are close but the other group means stands out. It \n",
    "### also supports the homoscedasticity of variances. Fig 11 indicates that the normality assumption \n",
    "### holds."
   ]
  },
  {
   "cell_type": "code",
   "execution_count": 48,
   "metadata": {},
   "outputs": [
    {
     "data": {
      "text/plain": [
       "Text(0, 0.5, 'Residuals')"
      ]
     },
     "execution_count": 48,
     "metadata": {},
     "output_type": "execute_result"
    },
    {
     "data": {
      "image/png": "[encoded data removed]",
      "text/plain": [
       "<Figure size 432x288 with 1 Axes>"
      ]
     },
     "metadata": {
      "needs_background": "light"
     },
     "output_type": "display_data"
    }
   ],
   "source": [
    "# model values\n",
    "model_fitted_y = mod.fittedvalues\n",
    "# model residuals\n",
    "model_residuals = mod.resid\n",
    "# normalized residuals\n",
    "model_norm_residuals = mod.get_influence().resid_studentized_internal\n",
    "# absolute squared normalized residuals\n",
    "model_norm_residuals_abs_sqrt = np.sqrt(np.abs(model_norm_residuals))\n",
    "# absolute residuals\n",
    "model_abs_resid = np.abs(model_residuals)\n",
    "# leverage, from statsmodels internals\n",
    "model_leverage = mod.get_influence().hat_matrix_diag\n",
    "# cook's distance, from statsmodels internals\n",
    "model_cooks = mod.get_influence().cooks_distance[0]\n",
    "plot_lm_1 = plt.figure()\n",
    "plot_lm_1.axes[0] = sns.residplot(model_fitted_y, 'co_emissions', data=aovData,\n",
    " lowess=True,\n",
    " scatter_kws={'alpha': 0.5},\n",
    " line_kws={'color': 'red', 'lw': 1, 'alpha': 0.8})\n",
    "plot_lm_1.axes[0].set_title('Residuals vs Fitted')\n",
    "plot_lm_1.axes[0].set_xlabel('Fitted values')\n",
    "plot_lm_1.axes[0].set_ylabel('Residuals')"
   ]
  },
  {
   "cell_type": "code",
   "execution_count": 49,
   "metadata": {},
   "outputs": [],
   "source": [
    "QQ = ProbPlot(model_norm_residuals)"
   ]
  },
  {
   "cell_type": "code",
   "execution_count": 50,
   "metadata": {},
   "outputs": [
    {
     "data": {
      "image/png": "[encoded data removed]",
      "text/plain": [
       "<Figure size 432x288 with 1 Axes>"
      ]
     },
     "metadata": {
      "needs_background": "light"
     },
     "output_type": "display_data"
    }
   ],
   "source": [
    "plot_lm_2 = QQ.qqplot(line='45', alpha=0.5, color='#4C72B0', lw=1)\n",
    "plot_lm_2.axes[0].set_title('Normal Q-Q')\n",
    "plot_lm_2.axes[0].set_xlabel('Theoretical Quantiles')\n",
    "plot_lm_2.axes[0].set_ylabel('Standardized Residuals');\n",
    "# annotations\n",
    "abs_norm_resid = np.flip(np.argsort(np.abs(model_norm_residuals)), 0)\n",
    "abs_norm_resid_top_3 = abs_norm_resid[:3]\n",
    "for r, i in enumerate(abs_norm_resid_top_3):\n",
    " plot_lm_2.axes[0].annotate(i,xy=(np.flip(QQ.theoretical_quantiles, 0\n",
    ")[r],model_norm_residuals[i])) "
   ]
  },
  {
   "cell_type": "code",
   "execution_count": 52,
   "metadata": {},
   "outputs": [],
   "source": [
    "### Note that once the null hypothesis of equality of means is rejected, the next natural question is \n",
    "### to find out which mean(s) is different from the rest. Before we answer that question, let us first \n",
    "### check whether carbon emission is dependent on the manufacturer.\n",
    "### Problem 2: Whether there is any dependency on 𝑌 of 𝑋2: Manufacturer\n",
    "### We need to test the hypothesis that carbon emission is the same for all car manufacturer. \n",
    "### Formally,\n",
    "### 𝐻0: 𝜇1 = 𝜇2 = 𝜇3 = 𝜇4 against 𝐻𝑎: At least for one manufacturer emission level is different \n",
    "### from the rest.\n",
    "### As in the previous problem, visual comparison of group means is recommended."
   ]
  },
  {
   "cell_type": "code",
   "execution_count": 55,
   "metadata": {},
   "outputs": [
    {
     "data": {
      "image/png": "[encoded data removed]",
      "text/plain": [
       "<Figure size 504x504 with 1 Axes>"
      ]
     },
     "metadata": {
      "needs_background": "light"
     },
     "output_type": "display_data"
    }
   ],
   "source": [
    "a4_dims = (7,7)\n",
    "fig, ax = plt.subplots(figsize=a4_dims)\n",
    "a = sns.boxplot(x= \"manufacturer\", y = 'co_emissions' , data = aovData, \n",
    "hue = 'manufacturer')\n",
    "a.set_title(\"Carbon Emission w.r.t. manufacturer (4 manufacturer)\",fontsize=15)\n",
    "plt.show()"
   ]
  },
  {
   "cell_type": "code",
   "execution_count": 56,
   "metadata": {},
   "outputs": [],
   "source": [
    "# Assumption 1 has already been tested for this data.\n",
    "# Equality of variance assumption needs to be checked for this factor.\n",
    "# In order to test the assumption that for all four manufacturers, population variance is equal to\n",
    "# the following null and alternative hypothesis are defined as:\n",
    "# 𝐻0: 𝜎1 = 𝜎2 = 𝜎3 = 𝜎4 against 𝐻𝑎: At least one variance is different from the rest."
   ]
  },
  {
   "cell_type": "code",
   "execution_count": 58,
   "metadata": {},
   "outputs": [
    {
     "name": "stdout",
     "output_type": "stream",
     "text": [
      "statistic = 0.9970714449882507 p_value = 0.20131599109069698\n"
     ]
    }
   ],
   "source": [
    "statistic, p_value = stats.levene(\n",
    " aovData['co_emissions'][aovData['manufacturer']==\"Audi\"],\n",
    " aovData['co_emissions'][aovData['manufacturer']==\"BMW\"],\n",
    " aovData['co_emissions'][aovData['manufacturer']==\"Volvo\"],\n",
    " aovData['co_emissions'][aovData['manufacturer']==\"Ford\"])\n",
    "print(\"statistic = {}\".format(w), \"p_value = {}\".format(p_value))"
   ]
  },
  {
   "cell_type": "code",
   "execution_count": 60,
   "metadata": {},
   "outputs": [],
   "source": [
    "### Since the p-value is large, we fail to reject the null hypothesis of homogeneity of variances and \n",
    "### can say that population variances are equal across different manufacturers. As all the \n",
    "### assumptions of one-way ANOVA are satisfied, we can now compare the population means\n",
    "### with respect to the manufacturer.\n",
    "### ANOVA Table for manufacturer"
   ]
  },
  {
   "cell_type": "code",
   "execution_count": 61,
   "metadata": {},
   "outputs": [
    {
     "name": "stdout",
     "output_type": "stream",
     "text": [
      "                 df        sum_sq       mean_sq        F    PR(>F)\n",
      "manufacturer    3.0  8.382457e+04  27941.524040  6.44076  0.000276\n",
      "Residual      506.0  2.195146e+06   4338.233767      NaN       NaN\n"
     ]
    }
   ],
   "source": [
    "#Apply one-way ANOVA\n",
    "mod = ols('co_emissions ~ manufacturer', data = aovData).fit()\n",
    "aov_tbl = sm.stats.anova_lm(mod, type = 1)\n",
    "print(aov_tbl)"
   ]
  },
  {
   "cell_type": "code",
   "execution_count": 62,
   "metadata": {},
   "outputs": [],
   "source": [
    "### For the given problem sum of squares due to the manufacturer (SSB) is 83825 and the sum of \n",
    "### squares due to error (SSW) is 2195146. The total sum of squares (SST) for the data is \n",
    "### (83825+2195146=2278971). Since the factor has 4 levels, DF corresponding to the \n",
    "### manufacturer is 4 – 1 = 3. Total DF is 510 – 1 = 509. Hence DF due to error is 509 – 3 = 506. \n",
    "### Mean sum of squares is obtained by dividing the sums of squares by corresponding DF. The \n",
    "### value of the F-statistic is approximately 6 and the p-value is highly significant.\n",
    "### Therefore, based on the ANOVA test, we reject the null hypothesis that the four population \n",
    "### means are the same. At least for one manufacturer mean carbon emission is different from the \n",
    "### rest.\n",
    "### Two important points need to be noted here\n",
    "### 1) Whether we are testing equality of mean across fuel type or manufacturer, SST is \n",
    "### constant given data. In this case SST = 2278971.\n",
    "### 2) Total DF is constant given a data and is equal to n – 1. Since sample size is 510, total \n",
    "### DF = 509.\n",
    "### Residual plots are shown below for different manufacturers."
   ]
  },
  {
   "cell_type": "code",
   "execution_count": 63,
   "metadata": {},
   "outputs": [
    {
     "data": {
      "text/plain": [
       "Text(0, 0.5, 'Residuals')"
      ]
     },
     "execution_count": 63,
     "metadata": {},
     "output_type": "execute_result"
    },
    {
     "data": {
      "image/png": "[encoded data removed]",
      "text/plain": [
       "<Figure size 432x288 with 1 Axes>"
      ]
     },
     "metadata": {
      "needs_background": "light"
     },
     "output_type": "display_data"
    }
   ],
   "source": [
    "# model values\n",
    "model_fitted_y = mod.fittedvalues\n",
    "# model residuals\n",
    "model_residuals = mod.resid\n",
    "# normalized residuals\n",
    "model_norm_residuals = mod.get_influence().resid_studentized_internal\n",
    "# absolute squared normalized residuals\n",
    "model_norm_residuals_abs_sqrt = np.sqrt(np.abs(model_norm_residuals))\n",
    "# absolute residuals\n",
    "model_abs_resid = np.abs(model_residuals)\n",
    "# leverage, from statsmodels internals\n",
    "model_leverage = mod.get_influence().hat_matrix_diag\n",
    "# cook's distance, from statsmodels internals\n",
    "model_cooks = mod.get_influence().cooks_distance[0]\n",
    "plot_lm_1 = plt.figure()\n",
    "plot_lm_1.axes[0] = sns.residplot(model_fitted_y, 'co_emissions', data=aovData,\n",
    "                                  lowess=True,\n",
    "                                  scatter_kws={'alpha': 0.5},\n",
    "                                  line_kws={'color': 'red', 'lw': 1, 'alpha': 0.8})\n",
    "plot_lm_1.axes[0].set_title('Residuals vs Fitted')\n",
    "plot_lm_1.axes[0].set_xlabel('Fitted values')\n",
    "plot_lm_1.axes[0].set_ylabel('Residuals')"
   ]
  },
  {
   "cell_type": "code",
   "execution_count": 64,
   "metadata": {},
   "outputs": [
    {
     "data": {
      "image/png": "[encoded data removed]",
      "text/plain": [
       "<Figure size 432x288 with 1 Axes>"
      ]
     },
     "metadata": {
      "needs_background": "light"
     },
     "output_type": "display_data"
    }
   ],
   "source": [
    "QQ = ProbPlot(model_norm_residuals)\n",
    "plot_lm_2 = QQ.qqplot(line='45', alpha=0.5, color='#4C72B0', lw=1)\n",
    "plot_lm_2.axes[0].set_title('Normal Q-Q')\n",
    "plot_lm_2.axes[0].set_xlabel('Theoretical Quantiles')\n",
    "plot_lm_2.axes[0].set_ylabel('Standardized Residuals');\n",
    "# annotations\n",
    "abs_norm_resid = np.flip(np.argsort(np.abs(model_norm_residuals)), 0)\n",
    "abs_norm_resid_top_3 = abs_norm_resid[:3]\n",
    "for r, i in enumerate(abs_norm_resid_top_3):\n",
    " plot_lm_2.axes[0].annotate(i,xy=(np.flip(QQ.theoretical_quantiles, 0)[r],model_norm_residuals[i]))"
   ]
  },
  {
   "cell_type": "code",
   "execution_count": 66,
   "metadata": {},
   "outputs": [],
   "source": [
    "### 3.3 Multiple Comparison Test: The Tukey’s HSD and Tukey-Kramer procedure \n",
    "### We have observed that Fuel_type and Manufacturer individually have a significant impact on \n",
    "### Carbon emission as null hypotheses that group means are equal have been rejected in both \n",
    "### cases. However, we have not been able to determine which mean is different from the rest or \n",
    "### whether all pairs of means are different. There are special tests (called post hoc tests) of the \n",
    "### differences between all pairs of means. These tests are also called multiple comparison tests. \n",
    "### These tests are NOT independent t-tests, because here ALL pairs of group means are \n",
    "### considered simultaneously. \n",
    "### Before we can introduce the multiple comparison tests, we need to discuss about an adjustment \n",
    "### to the Type I error of this test.\n",
    "### Type I error, 𝛼 is the probability of rejecting a null hypothesis when it is true. Hence the\n",
    "### probability of accepting a null hypothesis when it is true is:\n",
    "### 1 − 𝛼 = 1-(.05) = 0.95\n",
    "### Consider now two independent null hypotheses, both are being tested at level 𝛼. Both null \n",
    "### hypotheses will be accepted, when both are indeed true is (0.95)*(0.95) = 0.9075, by \n",
    "### application of probability multiplication rule. Hence, the probability of making Type I error in \n",
    "### this case is 1 – 0.9075 = 0.0975. Note that, even though at individual test level, Type I error \n",
    "### had been fixed at 𝛼 = 0.05, in effect, because of two null hypotheses being tested \n",
    "### simultaneously, level of the test has increased, i.e. probability of rejecting at least one null \n",
    "### hypothesis, when it is actually true is higher than the fixed value. As more and more null \n",
    "### hypotheses will be tested simultaneously, Type I error rate will keep on inflating with \n",
    "### increasing number of tests as shown in Figure 15. The family-wise error rate is the probability \n",
    "### that at least one type I error is made on a set of tests."
   ]
  },
  {
   "cell_type": "code",
   "execution_count": 67,
   "metadata": {},
   "outputs": [],
   "source": [
    "### The most important part of multiple comparison test is an adjustment for 𝛼.\n",
    "### Essentially multiple comparison methods consider each pair of group mean to see whether their \n",
    "### difference is significant or not. If a factor has 3 levels (e.g. fuel type), then the number of pairs \n",
    "### compared is (\n",
    "### 3\n",
    "### 2\n",
    "### ) = 3; if a factor has 4 levels, (e.g. manufacturer), then the number of pairs \n",
    "### compared is (\n",
    "### 4\n",
    "### 2\n",
    "### ) = 6. As levels of a factor increases, the number of pairs increases accordingly\n",
    "### and we should we worried about inflated family-wise error rate. If ANOVA F-test is rejected, \n",
    "### then at least one of the pairs will be found significant.\n",
    "### There are several tests available for multiple comparisons which are introduced below.\n",
    "### Tukey’s HSD is recommended when sample sizes are equal, or approximately equal for each \n",
    "### level of the factor, i.e. 𝑛𝑗 =\n",
    "### 𝑛\n",
    "### 𝑐\n",
    "### , where c is the number of factor levels. A modification of \n",
    "### Tukey’s HSD is suggested by C.Y. Kramer to accommodate unequal group sizes. Another \n",
    "### often used procedure is Bonferroni procedure.\n"
   ]
  },
  {
   "cell_type": "code",
   "execution_count": 68,
   "metadata": {},
   "outputs": [],
   "source": [
    "### Case Study continued.\n",
    "### Multiple comparison tests for 𝑋1: Fuel Type\n",
    "### In order to identify for which fuel type mean carbon emission is different from other groups, \n",
    "### the hypotheses may be stated as:\n",
    "### 𝐻0: All pairs of group means are equal against 𝐻𝑎: At least one group mean is different from \n",
    "### the rest.\n",
    "### In this case, as there are only 3 pairs to be considered, we may write the null and alternative \n",
    "### hypothesis as:"
   ]
  },
  {
   "cell_type": "code",
   "execution_count": 69,
   "metadata": {},
   "outputs": [],
   "source": [
    "### 𝐻0: 𝜇1 = 𝜇2 and 𝜇1 = 𝜇3 and 𝜇2 = 𝜇3 against 𝐻𝑎: 𝜇1 ≠ 𝜇2 or 𝜇1 ≠ 𝜇3 or 𝜇2 ≠ 𝜇3\n",
    "### respectively, where 𝜇1represents mean carbon emission when fuel type is E85, 𝜇2 represents \n",
    "### mean carbon emission when fuel type is LPG and 𝜇3 is the same for Petrol."
   ]
  },
  {
   "cell_type": "code",
   "execution_count": 70,
   "metadata": {},
   "outputs": [
    {
     "name": "stdout",
     "output_type": "stream",
     "text": [
      "Multiple Comparison of Means - Tukey HSD, FWER=0.05 \n",
      "====================================================\n",
      "group1 group2 meandiff p-adj   lower   upper  reject\n",
      "----------------------------------------------------\n",
      "   E85    LPG  25.6199 0.0012  8.6837  42.556   True\n",
      "   E85 Petrol  33.5984  0.001 16.8707 50.3262   True\n",
      "   LPG Petrol   7.9785 0.4931 -8.5144 24.4715  False\n",
      "----------------------------------------------------\n"
     ]
    }
   ],
   "source": [
    "# Posthoc test: Tukey test \n",
    "MultiComp=MultiComparison(aovData['co_emissions'],aovData['fuel_type'])\n",
    "print(MultiComp.tukeyhsd().summary())"
   ]
  },
  {
   "cell_type": "code",
   "execution_count": 72,
   "metadata": {},
   "outputs": [],
   "source": [
    "### P-value is significant for comparing carbon emission mean levels for the pair LPG-E85 and \n",
    "### Petrol-E85, but not for Petrol-LPG. The null hypothesis of equality of all population means is \n",
    "### rejected. It is now clear that mean carbon emission for Petrol and LPG is similar but emission \n",
    "### for fuel type E85 is significantly different from these two. \n",
    "### Note also that, the numerical values of the differences being positive, mean carbon emission \n",
    "### for fuel type E85 is significantly lower than that for petrol or LPG. This same observation is \n",
    "### borne out by the residual plot in Fig 10, where the values of the residuals corresponding to E85 \n",
    "### is lower compared to the other fuel types, which are much closer.\n",
    "### Often it is easier to visualize the difference among group means."
   ]
  },
  {
   "cell_type": "code",
   "execution_count": 73,
   "metadata": {},
   "outputs": [
    {
     "data": {
      "image/png": "[encoded data removed]",
      "text/plain": [
       "<Figure size 576x504 with 1 Axes>"
      ]
     },
     "metadata": {
      "needs_background": "light"
     },
     "output_type": "display_data"
    }
   ],
   "source": [
    "#for family wise comparison\n",
    "results = MultiComp.tukeyhsd()\n",
    "df=results.summary()\n",
    "results_as_html = df.as_html()\n",
    "df1=pd.read_html(results_as_html, header=0, index_col=0)[0].reset_index()\n",
    "groups = np.array([df1.group1+ '-'+ df1.group2])\n",
    "plt.figure(figsize=(8,7))\n",
    "data_dict = {}\n",
    "data_dict['category'] = groups.ravel()\n",
    "data_dict['lower'] = results.confint[:,0]\n",
    "data_dict['upper'] = results.confint[:,1]\n",
    "dataset = pd.DataFrame(data_dict)\n",
    "for lower,upper,y in zip(dataset['lower'],dataset['upper'],range(len(dataset))):\n",
    " plt.plot((lower,upper),(y,y),'ro-',color='orange')\n",
    "plt.yticks(range(len(dataset)),list(dataset['category']));"
   ]
  },
  {
   "cell_type": "code",
   "execution_count": 74,
   "metadata": {},
   "outputs": [],
   "source": [
    "### Figure 16 is a graphical representation of pair-wise comparisons from Tukey’s HSD for fuel \n",
    "### type. The confidence intervals not containing 0 is for the difference between LPG & E85 and \n",
    "### for the difference between Petrol & E85. This indicates that population means of these pairs of \n",
    "### fuels are different. From the values of the pairwise differences, it may also be concluded that\n",
    "### carbon emission from cars using E85 is significantly less than the other two.\n",
    "### Let us now determine cars by which manufacturer have a mean carbon emission level different \n",
    "### from the others."
   ]
  },
  {
   "cell_type": "code",
   "execution_count": 75,
   "metadata": {},
   "outputs": [],
   "source": [
    "### Multiple comparison tests for 𝑋2: Manufacturer\n",
    "### In order to identify for which manufacturer mean carbon emission is different from others, the \n",
    "### hypotheses may be stated as:\n",
    "### 𝐻0: All pairs of group means are equal against 𝐻𝑎: At least one group mean is different from \n",
    "### the rest.\n",
    "### We may also rewrite the null and alternative hypotheses as\n",
    "### 𝐻0: 𝜇𝑖 = 𝜇𝑗 against 𝐻𝑎: 𝜇𝑖 ≠ 𝜇𝑗\n",
    "### , for all 𝑖 ≠ 𝑗, 𝑖,𝑗 = 1, 2, 3, 4. Subscript 1 represents Audi, \n",
    "### resents mean value of 2 BMW, 3 Ford and 4 Volvo."
   ]
  },
  {
   "cell_type": "code",
   "execution_count": 76,
   "metadata": {},
   "outputs": [
    {
     "name": "stdout",
     "output_type": "stream",
     "text": [
      " Multiple Comparison of Means - Tukey HSD, FWER=0.05  \n",
      "======================================================\n",
      "group1 group2 meandiff p-adj   lower    upper   reject\n",
      "------------------------------------------------------\n",
      "  Audi    BMW  27.8115 0.0048   6.4089  49.2141   True\n",
      "  Audi   Ford  15.3513 0.2178  -5.1756  35.8782  False\n",
      "  Audi  Volvo   -5.829  0.882 -26.7415  15.0835  False\n",
      "   BMW   Ford -12.4602 0.4541 -34.2191   9.2987  False\n",
      "   BMW  Volvo -33.6405  0.001 -55.7635 -11.5175   True\n",
      "  Ford  Volvo -21.1803 0.0516 -42.4573   0.0967  False\n",
      "------------------------------------------------------\n"
     ]
    }
   ],
   "source": [
    "## post hoc test\n",
    "MultiComp=MultiComparison(aovData['co_emissions'],aovData['manufacturer'])\n",
    "print(MultiComp.tukeyhsd().summary())"
   ]
  },
  {
   "cell_type": "code",
   "execution_count": 77,
   "metadata": {},
   "outputs": [],
   "source": [
    "### It is clear from the above table that there is a significant difference in mean carbon emission \n",
    "### between (i) BMW and Audi; between (ii) Volvo and BMW and between (iii) Volvo and Ford."
   ]
  },
  {
   "cell_type": "code",
   "execution_count": 80,
   "metadata": {},
   "outputs": [
    {
     "data": {
      "image/png": "[encoded data removed]",
      "text/plain": [
       "<Figure size 360x360 with 1 Axes>"
      ]
     },
     "metadata": {
      "needs_background": "light"
     },
     "output_type": "display_data"
    }
   ],
   "source": [
    "df=results.summary()\n",
    "results_as_html = df.as_html()\n",
    "df1=pd.read_html(results_as_html, header=0, index_col=0)[0].reset_index()\n",
    "groups = np.array([df1.group1+ '-'+ df1.group2])\n",
    "plt.figure(figsize=(10,10))\n",
    "data_dict = {}\n",
    "data_dict['category'] = groups.ravel()\n",
    "data_dict['lower'] = results.confint[:,0]\n",
    "data_dict['upper'] = results.confint[:,1]\n",
    "dataset = pd.DataFrame(data_dict)\n",
    "for lower,upper,y in zip(dataset['lower'],dataset['upper'],range(len(dataset))):\n",
    " plt.plot((lower,upper),(y,y),'ro-',color='orange')\n",
    "plt.yticks(range(len(dataset)),list(dataset['category']));"
   ]
  },
  {
   "cell_type": "code",
   "execution_count": null,
   "metadata": {},
   "outputs": [],
   "source": []
  }
 ],
 "metadata": {
  "kernelspec": {
   "display_name": "Python 3",
   "language": "python",
   "name": "python3"
  },
  "language_info": {
   "codemirror_mode": {
    "name": "ipython",
    "version": 3
   },
   "file_extension": ".py",
   "mimetype": "text/x-python",
   "name": "python",
   "nbconvert_exporter": "python",
   "pygments_lexer": "ipython3",
   "version": "3.8.8"
  }
 },
 "nbformat": 4,
 "nbformat_minor": 4
}
